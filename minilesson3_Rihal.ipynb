{
 "cells": [
  {
   "cell_type": "markdown",
   "id": "cf3f469c",
   "metadata": {},
   "source": [
    "### Module 0.1 Working with Jupyter Notebook and Canvas\n",
    "\n",
    "#### Try-It 0.1: Starter\n",
    "\n",
    "\n",
    "The starter file will contain instructions and an opportunity for you to complete the code. Complete the code where you see ```????```."
   ]
  },
  {
   "cell_type": "markdown",
   "id": "16c1043e",
   "metadata": {},
   "source": [
    "#### Problem 1\n",
    "\n",
    "Complete the code below to print the string ```'Hello World!'```:"
   ]
  },
  {
   "cell_type": "code",
   "execution_count": 2,
   "id": "eb31ac29",
   "metadata": {},
   "outputs": [
    {
     "ename": "SyntaxError",
     "evalue": "invalid syntax. Perhaps you forgot a comma? (1904594947.py, line 1)",
     "output_type": "error",
     "traceback": [
      "\u001b[1;36m  Cell \u001b[1;32mIn[2], line 1\u001b[1;36m\u001b[0m\n\u001b[1;33m    print(''Hello World!'')\u001b[0m\n\u001b[1;37m          ^\u001b[0m\n\u001b[1;31mSyntaxError\u001b[0m\u001b[1;31m:\u001b[0m invalid syntax. Perhaps you forgot a comma?\n"
     ]
    }
   ],
   "source": [
    "print(''Hello World!'')"
   ]
  },
  {
   "cell_type": "markdown",
   "id": "544186f0",
   "metadata": {},
   "source": [
    "#### Problem 2\n",
    "\n",
    "Some zipped starter/solution/assignment content can also include a folder with files that you will need to complete the work for the activity.  Complete the code below to list the contents of the ```'data'``` directory for this activity:"
   ]
  },
  {
   "cell_type": "code",
   "execution_count": 1,
   "id": "9e7a0e21",
   "metadata": {},
   "outputs": [
    {
     "ename": "FileNotFoundError",
     "evalue": "[WinError 3] The system cannot find the path specified: 'data'",
     "output_type": "error",
     "traceback": [
      "\u001b[1;31m---------------------------------------------------------------------------\u001b[0m",
      "\u001b[1;31mFileNotFoundError\u001b[0m                         Traceback (most recent call last)",
      "Cell \u001b[1;32mIn[1], line 3\u001b[0m\n\u001b[0;32m      1\u001b[0m \u001b[38;5;28;01mimport\u001b[39;00m \u001b[38;5;21;01mos\u001b[39;00m\n\u001b[1;32m----> 3\u001b[0m os\u001b[38;5;241m.\u001b[39mlistdir(\u001b[38;5;124m'\u001b[39m\u001b[38;5;124mdata\u001b[39m\u001b[38;5;124m'\u001b[39m)\n",
      "\u001b[1;31mFileNotFoundError\u001b[0m: [WinError 3] The system cannot find the path specified: 'data'"
     ]
    }
   ],
   "source": [
    "import os\n",
    "\n",
    "os.listdir('data')"
   ]
  },
  {
   "cell_type": "code",
   "execution_count": null,
   "id": "52fd6ff1",
   "metadata": {},
   "outputs": [],
   "source": []
  }
 ],
 "metadata": {
  "kernelspec": {
   "display_name": "Python 3 (ipykernel)",
   "language": "python",
   "name": "python3"
  },
  "language_info": {
   "codemirror_mode": {
    "name": "ipython",
    "version": 3
   },
   "file_extension": ".py",
   "mimetype": "text/x-python",
   "name": "python",
   "nbconvert_exporter": "python",
   "pygments_lexer": "ipython3",
   "version": "3.11.5"
  }
 },
 "nbformat": 4,
 "nbformat_minor": 5
}
